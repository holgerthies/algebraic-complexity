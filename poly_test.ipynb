{
 "metadata": {
  "name": "poly_test"
 },
 "nbformat": 3,
 "nbformat_minor": 0,
 "worksheets": [
  {
   "cells": [
    {
     "cell_type": "code",
     "collapsed": false,
     "input": [
      "%load_ext autoreload\n",
      "%autoreload 2\n",
      "from poly import *\n",
      "import poly_mult\n",
      "p1=Poly(\"2X^2+3X+7\")\n",
      "p2=Poly(\"2X^2+3\")\n",
      "print poly_mult.naive(p1,p2)\n",
      "print poly_mult.toomCook(4, p1,p2)"
     ],
     "language": "python",
     "metadata": {},
     "outputs": [
      {
       "output_type": "stream",
       "stream": "stdout",
       "text": [
        "4X^4 + 6X^3 + 20X^2 + 9X + 21\n",
        "4.71482053399e-14X^5 + 4.0X^4 + 6.0X^3 + 20.0X^2 + 9.0X + 21.0\n"
       ]
      }
     ],
     "prompt_number": 63
    },
    {
     "cell_type": "code",
     "collapsed": false,
     "input": [],
     "language": "python",
     "metadata": {},
     "outputs": [],
     "prompt_number": 59
    },
    {
     "cell_type": "code",
     "collapsed": false,
     "input": [],
     "language": "python",
     "metadata": {},
     "outputs": []
    }
   ],
   "metadata": {}
  }
 ]
}