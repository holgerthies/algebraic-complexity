{
 "metadata": {
  "name": "poly_test"
 },
 "nbformat": 3,
 "nbformat_minor": 0,
 "worksheets": [
  {
   "cells": [
    {
     "cell_type": "code",
     "collapsed": false,
     "input": [
      "%load_ext autoreload\n",
      "%autoreload 2\n",
      "from poly import *\n",
      "import poly_mult\n",
      "import numpy as np\n",
      "from poly_utils import *\n",
      "p1=Poly(\"10X^7+7\")\n",
      "p2=Poly(\"2X^7+2X^6+2X^5+1X^4+4X^3+2X^2+4X+3\")\n",
      "p1_split = poly_mult.__tk_split_polynomial(p1,1)\n",
      "print p1_split\n",
      "#print p1_split.coeffs[0]\n",
      "#print p1_split.coeffs[1]\n",
      "#print random_polynomial(10)\n",
      "#print poly_mult.naive(p1,p2)\n",
      "#print poly_mult.toomCook(1, p1,p2)"
     ],
     "language": "python",
     "metadata": {},
     "outputs": [
      {
       "output_type": "stream",
       "stream": "stdout",
       "text": [
        "359X^10 + 294X^9 + 859X^8 + 620X^7 + 789X^6 + 597X^5 + 685X^4 + 316X^3 + 281X^2 + 337X + 850\n",
        "20X^14 + 20X^13 + 20X^12 + 10X^11 + 40X^10 + 20X^9 + 40X^8 + 44X^7 + 14X^6 + 14X^5 + 7X^4 + 28X^3 + 14X^2 + 28X + 21\n"
       ]
      }
     ],
     "prompt_number": 170
    },
    {
     "cell_type": "code",
     "collapsed": false,
     "input": [],
     "language": "python",
     "metadata": {},
     "outputs": [],
     "prompt_number": 59
    },
    {
     "cell_type": "code",
     "collapsed": false,
     "input": [],
     "language": "python",
     "metadata": {},
     "outputs": []
    }
   ],
   "metadata": {}
  }
 ]
}