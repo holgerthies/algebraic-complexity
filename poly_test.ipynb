{
 "metadata": {
  "name": "poly_test"
 },
 "nbformat": 3,
 "nbformat_minor": 0,
 "worksheets": [
  {
   "cells": [
    {
     "cell_type": "code",
     "collapsed": false,
     "input": [
      "%load_ext autoreload\n",
      "%autoreload 2\n",
      "%load_ext line_profiler\n",
      "from poly import *\n",
      "import poly_mult\n",
      "import numpy as np\n",
      "from poly_utils import *\n",
      "p1=random_polynomial(65535, 10)\n",
      "p2=random_polynomial(65535, 10)\n",
      "#%time p=poly_mult.naive(p1,p2)\n",
      "#p1_split = poly_mult.__tk_split_polynomial(p1,2)\n",
      "#p2_split = poly_mult.__tk_split_polynomial(p2,2)\n",
      "\n",
      "#print p1_split(0)\n",
      "#print p1_split.coeffs\n",
      "#poly_mult.__tk_multiply_by_interpolation(p1_split, p2_split, 2)\n",
      "%time poly_mult.naive(p1,p2)\n",
      "%time p=poly_mult.toomCook(4, p1,p2)\n",
      "#print p"
     ],
     "language": "python",
     "metadata": {},
     "outputs": [
      {
       "output_type": "stream",
       "stream": "stdout",
       "text": [
        "CPU times: user 233.29 s, sys: 0.19 s, total: 233.48 s\n",
        "Wall time: 233.28 s\n",
        "CPU times: user 1347.47 s, sys: 2.68 s, total: 1350.15 s"
       ]
      },
      {
       "output_type": "stream",
       "stream": "stdout",
       "text": [
        "\n",
        "Wall time: 1348.04 s\n"
       ]
      }
     ],
     "prompt_number": 148
    },
    {
     "cell_type": "code",
     "collapsed": false,
     "input": [],
     "language": "python",
     "metadata": {},
     "outputs": [
      {
       "output_type": "stream",
       "stream": "stdout",
       "text": [
        "CPU times: user 0.55 s, sys: 0.00 s, total: 0.55 s\n",
        "Wall time: 0.55 s\n"
       ]
      },
      {
       "output_type": "pyout",
       "prompt_number": 216,
       "text": [
        "set([1])"
       ]
      }
     ],
     "prompt_number": 216
    },
    {
     "cell_type": "code",
     "collapsed": false,
     "input": [],
     "language": "python",
     "metadata": {},
     "outputs": []
    }
   ],
   "metadata": {}
  }
 ]
}