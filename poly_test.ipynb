{
 "metadata": {
  "name": "poly_test"
 },
 "nbformat": 3,
 "nbformat_minor": 0,
 "worksheets": [
  {
   "cells": [
    {
     "cell_type": "code",
     "collapsed": false,
     "input": [
      "%load_ext autoreload\n",
      "%autoreload 2\n",
      "%load_ext line_profiler\n",
      "from poly import *\n",
      "import poly_mult\n",
      "import numpy as np\n",
      "from poly_utils import *\n",
      "import cmath\n",
      "p1=random_polynomial(4, 10)\n",
      "p2=random_polynomial(4, 10)\n",
      "#%time p=poly_mult.naive(p1,p2)\n",
      "#p1_split = poly_mult.__tk_split_polynomial(p1,2)\n",
      "#p2_split = poly_mult.__tk_split_polynomial(p2,2)\n",
      "A=[1,2]+[i+100 for i in range(14)]\n",
      "omega = np.exp(-2j * np.pi  / len(A))\n",
      "print poly_mult.naive(p1,p2)\n",
      "print poly_mult.fft(p1,p2)\n",
      "#print p1_split(0)\n",
      "#print p1_split.coeffs\n",
      "#poly_mult.__tk_multiply_by_interpolation(p1_split, p2_split, 2)\n",
      "#%time poly_mult.naive(p1,p2)\n",
      "#%time poly_mult.toomCook(4, p1,p2)\n",
      "#%time poly_mult.fft(p1,p2)\n",
      "#print p"
     ],
     "language": "python",
     "metadata": {},
     "outputs": [
      {
       "output_type": "stream",
       "stream": "stdout",
       "text": [
        "True\n",
        "[1494, (-194.61631465359483+77.339008876420479j), (-173.5893577750951+87.903066274079876j), (-142.1202929394137+101.58916075491872j), (-104.99999999999999+105j), (-67.87970706058627+94.961743756949204j), (-36.410642224904876+71.903066274079862j), (-15.383685346405173+38.71159187845096j), -8, (-15.383685346405187-38.711591878450967j), (-36.410642224904905-71.903066274079876j), (-67.879707060586298-94.96174375694919j), (-105.00000000000001-105j), (-142.12029293941373-101.58916075491871j), (-173.58935777509512-87.903066274079862j), (-194.61631465359483-77.339008876420479j)]\n",
        "[ 1494.00000000  +0.j          -194.61631465 +77.33900888j\n",
        "  -173.58935778 +87.90306627j  -142.12029294+101.58916075j\n",
        "  -105.00000000+105.j           -67.87970706 +94.96174376j\n",
        "   -36.41064222 +71.90306627j   -15.38368535 +38.71159188j\n",
        "    -8.00000000  +0.j           -15.38368535 -38.71159188j\n",
        "   -36.41064222 -71.90306627j   -67.87970706 -94.96174376j\n",
        "  -105.00000000-105.j          -142.12029294-101.58916075j\n",
        "  -173.58935778 -87.90306627j  -194.61631465 -77.33900888j]\n",
        "9X^7 + 2X^6 + 63X^5 + 72X^4 + 84X^3 + 44X^2 + 24X + 32"
       ]
      },
      {
       "output_type": "stream",
       "stream": "stdout",
       "text": [
        "\n",
        "10 10\n",
        "3X^8 + 2X^7 + 4X^6 + 4X^5 + 3X^3 + 2X^2 + 4X + 4\n"
       ]
      }
     ],
     "prompt_number": 74
    },
    {
     "cell_type": "code",
     "collapsed": false,
     "input": [],
     "language": "python",
     "metadata": {},
     "outputs": [
      {
       "output_type": "stream",
       "stream": "stdout",
       "text": [
        "CPU times: user 0.55 s, sys: 0.00 s, total: 0.55 s\n",
        "Wall time: 0.55 s\n"
       ]
      },
      {
       "output_type": "pyout",
       "prompt_number": 216,
       "text": [
        "set([1])"
       ]
      }
     ],
     "prompt_number": 216
    },
    {
     "cell_type": "code",
     "collapsed": false,
     "input": [],
     "language": "python",
     "metadata": {},
     "outputs": []
    }
   ],
   "metadata": {}
  }
 ]
}